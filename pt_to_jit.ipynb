{
 "cells": [
  {
   "cell_type": "code",
   "execution_count": 7,
   "metadata": {},
   "outputs": [],
   "source": [
    "import warnings\n",
    "warnings.filterwarnings(\"ignore\")\n",
    "import torch\n",
    "import torchaudio\n",
    "import fairseq\n",
    "import random"
   ]
  },
  {
   "cell_type": "code",
   "execution_count": 8,
   "metadata": {},
   "outputs": [],
   "source": [
    "# Load the model\n",
    "model_fairseq =\"/home1/Amartya/outputs/2023-11-27/18-33-19/checkpoints/checkpoint_best.pt\""
   ]
  },
  {
   "cell_type": "code",
   "execution_count": 9,
   "metadata": {},
   "outputs": [],
   "source": [
    "model, cfg, task = fairseq.checkpoint_utils.load_model_ensemble_and_task([model_fairseq])"
   ]
  },
  {
   "cell_type": "code",
   "execution_count": 10,
   "metadata": {},
   "outputs": [],
   "source": [
    "wav_input_16khz =  torchaudio.load(\"/home1/Amartya/sagemaker_deploy/281474982913816.wav\")[0]\n",
    "inp = {'source': wav_input_16khz, 'padding_mask':torch.zeros(wav_input_16khz.shape[-1])}"
   ]
  },
  {
   "cell_type": "code",
   "execution_count": 11,
   "metadata": {},
   "outputs": [],
   "source": [
    "class SimpleModel(torch.nn.Module):\n",
    "    def __init__(self, model):\n",
    "        super().__init__()\n",
    "        self.model = fairseq.checkpoint_utils.load_model_ensemble_and_task([model])[0]\n",
    "        self.model = self.model[0].to('cpu')\n",
    "        self.model.eval()\n",
    "\n",
    "    def forward(self, x):\n",
    "        # Simplify the behavior of complex_model\n",
    "        with torch.no_grad():\n",
    "            encoder_out = self.model(**x)\n",
    "            emm = self.model.get_normalized_probs(encoder_out, log_probs=True)\n",
    "        return emm.transpose(0, 1)\n",
    "\n",
    "# Load your Wav2VecCtc model here\n",
    "simple_model = SimpleModel(model_fairseq)\n",
    "\n",
    "# Now you can trace simple_model instead of complex_model\n",
    "traced_model = torch.jit.trace(simple_model, inp)\n",
    "\n",
    "# simple_model(inp)"
   ]
  },
  {
   "cell_type": "code",
   "execution_count": 12,
   "metadata": {},
   "outputs": [],
   "source": [
    "torch.jit.save(m=traced_model, f=\"/home1/Amartya/sagemaker_deploy/jit_models/en_jit_mdl.pt\")"
   ]
  }
 ],
 "metadata": {
  "kernelspec": {
   "display_name": "fs_venv",
   "language": "python",
   "name": "python3"
  },
  "language_info": {
   "codemirror_mode": {
    "name": "ipython",
    "version": 3
   },
   "file_extension": ".py",
   "mimetype": "text/x-python",
   "name": "python",
   "nbconvert_exporter": "python",
   "pygments_lexer": "ipython3",
   "version": "3.8.10"
  },
  "orig_nbformat": 4
 },
 "nbformat": 4,
 "nbformat_minor": 2
}
