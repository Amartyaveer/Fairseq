{
 "cells": [
  {
   "cell_type": "code",
   "execution_count": 1,
   "metadata": {},
   "outputs": [],
   "source": [
    "import os\n",
    "import pandas as pd\n",
    "import re\n",
    "from tqdm import tqdm"
   ]
  },
  {
   "cell_type": "code",
   "execution_count": 2,
   "metadata": {},
   "outputs": [],
   "source": [
    "sr=16000\n",
    "base_dir = '/home1/Amartya/data/HI/processed'\n",
    "tag='dev'"
   ]
  },
  {
   "cell_type": "code",
   "execution_count": 4,
   "metadata": {},
   "outputs": [],
   "source": [
    "segment_uttid = os.popen('awk \\'{print $1}\\' /home1/Amartya/fairseq_old/data/HI/raw/dev_Hindi/segments').read().splitlines()\n",
    "segmet_recid = os.popen('awk \\'{print $2}\\' /home1/Amartya/fairseq_old/data/HI/raw/dev_Hindi/segments').read().splitlines()\n",
    "segment_start = os.popen('awk \\'{print $3}\\' /home1/Amartya/fairseq_old/data/HI/raw/dev_Hindi/segments').read().splitlines()\n",
    "segment_end = os.popen('awk \\'{print $4}\\' /home1/Amartya/fairseq_old/data/HI/raw/dev_Hindi/segments').read().splitlines()\n",
    "segment = dict(zip(segment_uttid, zip(segmet_recid, segment_start, segment_end)))"
   ]
  },
  {
   "cell_type": "code",
   "execution_count": 5,
   "metadata": {},
   "outputs": [],
   "source": [
    "wavscp_utt_id = os.popen('awk \\'{print $1}\\' /home1/Amartya/fairseq_old/data/HI/raw/dev_Hindi/wav.scp').read().splitlines()\n",
    "wavscp_utt_path = os.popen('awk \\'{print $2}\\' /home1/Amartya/fairseq_old/data/HI/raw/dev_Hindi/wav.scp').read().splitlines()\n",
    "wavscp = dict(zip(wavscp_utt_id, wavscp_utt_path)) "
   ]
  },
  {
   "cell_type": "code",
   "execution_count": 7,
   "metadata": {},
   "outputs": [],
   "source": [
    "text_utt_id = os.popen('awk \\'{print $1}\\' /home1/Amartya/fairseq_old/data/HI/raw/dev_Hindi/text').read().splitlines()\n",
    "text_text = os.popen('awk  \\'{ $1=\"\";sub(/^ /, \"\"); print}\\' /home1/Amartya/fairseq_old/data/HI/raw/dev_Hindi/text').read().splitlines()\n",
    "text = dict(zip(text_utt_id, text_text))"
   ]
  },
  {
   "cell_type": "code",
   "execution_count": 8,
   "metadata": {},
   "outputs": [],
   "source": [
    "dur_utt_id = os.popen('awk \\'{print $1}\\' /home1/Amartya/fairseq_old/data/HI/raw/dev_Hindi/utt2dur').read().splitlines()\n",
    "dur_dur = os.popen('awk \\'{print $2}\\' /home1/Amartya/fairseq_old/data/HI/raw/dev_Hindi/utt2dur').read().splitlines()\n",
    "dur = dict(zip(dur_utt_id, dur_dur))"
   ]
  },
  {
   "cell_type": "code",
   "execution_count": 9,
   "metadata": {},
   "outputs": [],
   "source": [
    "letter_dict = {}\n",
    "def extract_letter_letter_dict(text):\n",
    "\n",
    "    text = text.strip().split(' ')\n",
    "    letter_dict['|'] = 1\n",
    "    for ch in ' '.join(text):\n",
    "        if ch == ' ': continue\n",
    "        if ch not in letter_dict: letter_dict[ch] = 0\n",
    "        letter_dict[ch] += 1\n",
    "    # print(f'num of lines found:', len(letters))\n",
    "    return ' '.join(list('|'.join(text)))+' |'"
   ]
  },
  {
   "cell_type": "code",
   "execution_count": 12,
   "metadata": {},
   "outputs": [
    {
     "name": "stderr",
     "output_type": "stream",
     "text": [
      "  0%|          | 0/2566 [00:00<?, ?it/s]"
     ]
    },
    {
     "name": "stderr",
     "output_type": "stream",
     "text": [
      "100%|██████████| 2566/2566 [00:00<00:00, 41226.63it/s]\n"
     ]
    }
   ],
   "source": [
    "wrd = []\n",
    "tsv = []\n",
    "ltr = []\n",
    "for key in tqdm(segment):\n",
    "    wrd.append(text[key])\n",
    "    tsv.append((wavscp[segment[key][0]],int(float(segment[key][1])*sr), int(float(segment[key][2])*sr)-int(float(segment[key][1])*sr), int(float(segment[key][2])*sr)-int(float(segment[key][1])*sr)))\n",
    "    ltr.append(extract_letter_letter_dict(text[key]))\n",
    "    "
   ]
  },
  {
   "cell_type": "code",
   "execution_count": 13,
   "metadata": {},
   "outputs": [
    {
     "data": {
      "text/plain": [
       "'/data/Database/ASR_Challenge_IITM_Hindi/Audio/ahd_26_long_144_hin.wav:859200:83200\\t83200\\n'"
      ]
     },
     "execution_count": 13,
     "metadata": {},
     "output_type": "execute_result"
    }
   ],
   "source": [
    "f'{tsv[0][0]}:{tsv[0][1]}:{tsv[0][2]}\\t{tsv[0][3]}\\n'"
   ]
  },
  {
   "cell_type": "code",
   "execution_count": 37,
   "metadata": {},
   "outputs": [],
   "source": [
    "# with open(os.path.join(base_dir, 'dev.tsv'), 'w') as f:\n",
    "#     f.write('.\\n')\n",
    "#     for i in range(len(tsv)): \n",
    "#             f.write(f'{tsv[i][0]}:{tsv[i][1]}:{tsv[i][2]}\\t{tsv[i][3]}\\n')"
   ]
  },
  {
   "cell_type": "code",
   "execution_count": 10,
   "metadata": {},
   "outputs": [],
   "source": [
    "# with open(os.path.join(base_dir, 'dev.wrd'), 'w') as f:\n",
    "#     for i in wrd:\n",
    "#         f.write(f'{i}\\n')"
   ]
  },
  {
   "cell_type": "code",
   "execution_count": 11,
   "metadata": {},
   "outputs": [],
   "source": [
    "# with open(os.path.join(base_dir, 'dev.ltr'), 'w') as f:\n",
    "#     for i in ltr:\n",
    "#         f.write(f'{i}\\n')"
   ]
  }
 ],
 "metadata": {
  "kernelspec": {
   "display_name": "je_py",
   "language": "python",
   "name": "python3"
  },
  "language_info": {
   "codemirror_mode": {
    "name": "ipython",
    "version": 3
   },
   "file_extension": ".py",
   "mimetype": "text/x-python",
   "name": "python",
   "nbconvert_exporter": "python",
   "pygments_lexer": "ipython3",
   "version": "3.8.10"
  }
 },
 "nbformat": 4,
 "nbformat_minor": 2
}
